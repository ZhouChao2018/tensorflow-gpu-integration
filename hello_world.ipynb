{
 "cells": [
  {
   "cell_type": "code",
   "execution_count": 6,
   "metadata": {},
   "outputs": [],
   "source": [
    "import tensorflow as tf\n",
    "import numpy as np\n",
    "import time"
   ]
  },
  {
   "cell_type": "code",
   "execution_count": 12,
   "metadata": {},
   "outputs": [
    {
     "name": "stdout",
     "output_type": "stream",
     "text": [
      "Elapsed time: 1.050403118133545 s\n",
      "250008140000.0\n"
     ]
    }
   ],
   "source": [
    "shape = (10000,10000)\n",
    "\n",
    "# /cpu:0 ... first available CPU\n",
    "# /gpu:0 ... first available GPU\n",
    "\n",
    "with tf.device(\"/gpu:0\"):\n",
    "    random_matrix = tf.random_uniform(shape)\n",
    "    matrix_multiply = tf.matmul(random_matrix,tf.transpose(random_matrix))\n",
    "    sum_of_result = tf.reduce_sum(matrix_multiply)\n",
    "\n",
    "t_start = time.time()\n",
    "with tf.Session() as session:\n",
    "    result = session.run(sum_of_result)\n",
    "\n",
    "t_stop = time.time()\n",
    "t_passed = t_stop - t_start\n",
    "print('Elapsed time: {} s'.format(t_passed))\n",
    "print(result)"
   ]
  },
  {
   "cell_type": "code",
   "execution_count": null,
   "metadata": {},
   "outputs": [],
   "source": []
  }
 ],
 "metadata": {
  "kernelspec": {
   "display_name": "Python 3",
   "language": "python",
   "name": "python3"
  },
  "language_info": {
   "codemirror_mode": {
    "name": "ipython",
    "version": 3
   },
   "file_extension": ".py",
   "mimetype": "text/x-python",
   "name": "python",
   "nbconvert_exporter": "python",
   "pygments_lexer": "ipython3",
   "version": "3.6.5"
  }
 },
 "nbformat": 4,
 "nbformat_minor": 2
}
